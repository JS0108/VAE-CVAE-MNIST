{
  "nbformat": 4,
  "nbformat_minor": 0,
  "metadata": {
    "colab": {
      "name": "HW1_0309.ipynb",
      "provenance": [],
      "collapsed_sections": [],
      "include_colab_link": true
    },
    "kernelspec": {
      "name": "python3",
      "display_name": "Python 3"
    },
    "accelerator": "GPU"
  },
  "cells": [
    {
      "cell_type": "markdown",
      "metadata": {
        "id": "view-in-github",
        "colab_type": "text"
      },
      "source": [
        "<a href=\"https://colab.research.google.com/github/JS0108/VAE-CVAE-MNIST/blob/master/HW1_0309.ipynb\" target=\"_parent\"><img src=\"https://colab.research.google.com/assets/colab-badge.svg\" alt=\"Open In Colab\"/></a>"
      ]
    },
    {
      "cell_type": "markdown",
      "metadata": {
        "id": "mz0_QVkxCrX3"
      },
      "source": [
        "# **Homework 1: COVID-19 Cases Prediction (Regression)**"
      ]
    },
    {
      "cell_type": "markdown",
      "metadata": {
        "id": "ZeZnPAiwDRWG"
      },
      "source": [
        "Author: Heng-Jui Chang\n",
        "\n",
        "Slides: https://github.com/ga642381/ML2021-Spring/blob/main/HW01/HW01.pdf  \n",
        "Video: TBA\n",
        "\n",
        "Objectives:\n",
        "* Solve a regression problem with deep neural networks (DNN).\n",
        "* Understand basic DNN training tips.\n",
        "* Get familiar with PyTorch.\n",
        "\n",
        "If any questions, please contact the TAs via TA hours, NTU COOL, or email.\n"
      ]
    },
    {
      "cell_type": "markdown",
      "metadata": {
        "id": "Jx3x1nDkG-Uy"
      },
      "source": [
        "# **Download Data**\n",
        "\n",
        "\n",
        "If the Google drive links are dead, you can download data from [kaggle](https://www.kaggle.com/c/ml2021spring-hw1/data), and upload data manually to the workspace."
      ]
    },
    {
      "cell_type": "code",
      "metadata": {
        "colab": {
          "base_uri": "https://localhost:8080/"
        },
        "id": "tMj55YDKG6ch",
        "outputId": "e4ac8f53-fb56-47cf-c915-ad7de978b62c"
      },
      "source": [
        "tr_path = 'covid.train.csv'  # path to training data\n",
        "tt_path = 'covid.test.csv'   # path to testing data\n",
        "\n",
        "!gdown --id '19CCyCgJrUxtvgZF53vnctJiOJ23T5mqF' --output covid.train.csv\n",
        "!gdown --id '1CE240jLm2npU-tdz81-oVKEF3T2yfT1O' --output covid.test.csv"
      ],
      "execution_count": 371,
      "outputs": [
        {
          "output_type": "stream",
          "text": [
            "Downloading...\n",
            "From: https://drive.google.com/uc?id=19CCyCgJrUxtvgZF53vnctJiOJ23T5mqF\n",
            "To: /content/covid.train.csv\n",
            "100% 2.00M/2.00M [00:00<00:00, 30.9MB/s]\n",
            "Downloading...\n",
            "From: https://drive.google.com/uc?id=1CE240jLm2npU-tdz81-oVKEF3T2yfT1O\n",
            "To: /content/covid.test.csv\n",
            "100% 651k/651k [00:00<00:00, 21.0MB/s]\n"
          ],
          "name": "stdout"
        }
      ]
    },
    {
      "cell_type": "markdown",
      "metadata": {
        "id": "wS_4-77xHk44"
      },
      "source": [
        "# **Import Some Packages**"
      ]
    },
    {
      "cell_type": "code",
      "metadata": {
        "id": "k-onQd4JNA5H"
      },
      "source": [
        "# PyTorch\n",
        "import torch\n",
        "import torch.nn as nn\n",
        "from torch.utils.data import Dataset, DataLoader\n",
        "\n",
        "# For data preprocess\n",
        "import numpy as np\n",
        "import csv\n",
        "import os\n",
        "\n",
        "# For plotting\n",
        "import matplotlib.pyplot as plt\n",
        "from matplotlib.pyplot import figure\n",
        "\n",
        "myseed = 42069  # set a random seed for reproducibility\n",
        "torch.backends.cudnn.deterministic = True\n",
        "torch.backends.cudnn.benchmark = False\n",
        "np.random.seed(myseed)\n",
        "torch.manual_seed(myseed)\n",
        "if torch.cuda.is_available():\n",
        "    torch.cuda.manual_seed_all(myseed)"
      ],
      "execution_count": 372,
      "outputs": []
    },
    {
      "cell_type": "markdown",
      "metadata": {
        "id": "BtE3b6JEH7rw"
      },
      "source": [
        "# **Some Utilities**\n",
        "\n",
        "You do not need to modify this part."
      ]
    },
    {
      "cell_type": "code",
      "metadata": {
        "id": "FWMT3uf1NGQp"
      },
      "source": [
        "def get_device():\n",
        "    ''' Get device (if GPU is available, use GPU) '''\n",
        "    return 'cuda' if torch.cuda.is_available() else 'cpu'\n",
        "\n",
        "def plot_learning_curve(loss_record, title=''):\n",
        "    ''' Plot learning curve of your DNN (train & dev loss) '''\n",
        "    total_steps = len(loss_record['train'])\n",
        "    x_1 = range(total_steps)\n",
        "    x_2 = x_1[::len(loss_record['train']) // len(loss_record['dev'])]\n",
        "    figure(figsize=(6, 4))\n",
        "    plt.plot(x_1, loss_record['train'], c='tab:red', label='train')\n",
        "    plt.plot(x_2, loss_record['dev'], c='tab:cyan', label='dev')\n",
        "    plt.ylim(0.0, 5.)\n",
        "    plt.xlabel('Training steps')\n",
        "    plt.ylabel('MSE loss')\n",
        "    plt.title('Learning curve of {}'.format(title))\n",
        "    plt.legend()\n",
        "    plt.show()\n",
        "\n",
        "\n",
        "def plot_pred(dv_set, model, device, lim=35., preds=None, targets=None):\n",
        "    ''' Plot prediction of your DNN '''\n",
        "    if preds is None or targets is None:\n",
        "        model.eval()\n",
        "        preds, targets = [], []\n",
        "        for x, y in dv_set:\n",
        "            x, y = x.to(device), y.to(device)\n",
        "            with torch.no_grad():\n",
        "                pred = model(x)\n",
        "                preds.append(pred.detach().cpu())\n",
        "                targets.append(y.detach().cpu())\n",
        "        preds = torch.cat(preds, dim=0).numpy()\n",
        "        targets = torch.cat(targets, dim=0).numpy()\n",
        "\n",
        "    figure(figsize=(5, 5))\n",
        "    plt.scatter(targets, preds, c='r', alpha=0.5)\n",
        "    plt.plot([-0.2, lim], [-0.2, lim], c='b')\n",
        "    plt.xlim(-0.2, lim)\n",
        "    plt.ylim(-0.2, lim)\n",
        "    plt.xlabel('ground truth value')\n",
        "    plt.ylabel('predicted value')\n",
        "    plt.title('Ground Truth v.s. Prediction')\n",
        "    plt.show()"
      ],
      "execution_count": 373,
      "outputs": []
    },
    {
      "cell_type": "markdown",
      "metadata": {
        "id": "39U_XFX6KOoj"
      },
      "source": [
        "# **Preprocess**\n",
        "\n",
        "We have three kinds of datasets:\n",
        "* `train`: for training\n",
        "* `dev`: for validation\n",
        "* `test`: for testing (w/o target value)"
      ]
    },
    {
      "cell_type": "markdown",
      "metadata": {
        "id": "TQ-MdwpLL7Dt"
      },
      "source": [
        "## **Dataset**\n",
        "\n",
        "The `COVID19Dataset` below does:\n",
        "* read `.csv` files\n",
        "* extract features\n",
        "* split `covid.train.csv` into train/dev sets\n",
        "* normalize features\n",
        "\n",
        "Finishing `TODO` below might make you pass medium baseline."
      ]
    },
    {
      "cell_type": "code",
      "metadata": {
        "id": "0zlpIp9ANJRU"
      },
      "source": [
        "class COVID19Dataset(Dataset):\n",
        "    ''' Dataset for loading and preprocessing the COVID19 dataset '''\n",
        "    def __init__(self,\n",
        "                 path,\n",
        "                 mode='train',\n",
        "                 target_only=False):\n",
        "        self.mode = mode\n",
        "\n",
        "        # Read data into numpy arrays\n",
        "        with open(path, 'r') as fp:\n",
        "            data = list(csv.reader(fp))\n",
        "            data = np.array(data[1:])[:, 1:].astype(float)\n",
        "        \n",
        "        if not target_only:\n",
        "            feats = list(range(93))\n",
        "        else:\n",
        "            feats = list(range(40)) + [42, 57, 60, 75, 78]\n",
        "            # TODO: Using 40 states & 2 tested_positive features (indices = 57 & 75)\n",
        "            pass\n",
        "\n",
        "        if mode == 'test':\n",
        "            # Testing data\n",
        "            # data: 893 x 93 (40 states + day 1 (18) + day 2 (18) + day 3 (17))\n",
        "            data = data[:, feats]\n",
        "            self.data = torch.FloatTensor(data)\n",
        "        else:\n",
        "            # Training data (train/dev sets)\n",
        "            # data: 2700 x 94 (40 states + day 1 (18) + day 2 (18) + day 3 (18))\n",
        "            target = data[:, -1]\n",
        "            data = data[:, feats]\n",
        "            \n",
        "            # Splitting training data into train & dev sets\n",
        "            if mode == 'train':\n",
        "                indices = [i for i in range(len(data)) if i % 10 != 0]\n",
        "            elif mode == 'dev':\n",
        "                indices = [i for i in range(len(data)) if i % 10 == 0]\n",
        "            \n",
        "            # Convert data into PyTorch tensors\n",
        "            self.data = torch.FloatTensor(data[indices])\n",
        "            self.target = torch.FloatTensor(target[indices])\n",
        "\n",
        "        # Normalize features (you may remove this part to see what will happen)\n",
        "        self.data[:, 40:] = \\\n",
        "            (self.data[:, 40:] - self.data[:, 40:].mean(dim=0, keepdim=True)) \\\n",
        "            / self.data[:, 40:].std(dim=0, keepdim=True)\n",
        "\n",
        "        self.dim = self.data.shape[1]\n",
        "\n",
        "        print('Finished reading the {} set of COVID19 Dataset ({} samples found, each dim = {})'\n",
        "              .format(mode, len(self.data), self.dim))\n",
        "\n",
        "    def __getitem__(self, index):\n",
        "        # Returns one sample at a time\n",
        "        if self.mode in ['train', 'dev']:\n",
        "            # For training\n",
        "            return self.data[index], self.target[index]\n",
        "        else:\n",
        "            # For testing (no target)\n",
        "            return self.data[index]\n",
        "\n",
        "    def __len__(self):\n",
        "        # Returns the size of the dataset\n",
        "        return len(self.data)"
      ],
      "execution_count": 374,
      "outputs": []
    },
    {
      "cell_type": "markdown",
      "metadata": {
        "id": "AlhTlkE7MDo3"
      },
      "source": [
        "## **DataLoader**\n",
        "\n",
        "A `DataLoader` loads data from a given `Dataset` into batches.\n"
      ]
    },
    {
      "cell_type": "code",
      "metadata": {
        "id": "hlhLk5t6MBX3"
      },
      "source": [
        "def prep_dataloader(path, mode, batch_size, n_jobs=0, target_only=False):\n",
        "    ''' Generates a dataset, then is put into a dataloader. '''\n",
        "    dataset = COVID19Dataset(path, mode=mode, target_only=target_only)  # Construct dataset\n",
        "    dataloader = DataLoader(\n",
        "        dataset, batch_size,\n",
        "        shuffle=(mode == 'train'), drop_last=False,\n",
        "        num_workers=n_jobs, pin_memory=True)                            # Construct dataloader\n",
        "    return dataloader"
      ],
      "execution_count": 375,
      "outputs": []
    },
    {
      "cell_type": "markdown",
      "metadata": {
        "id": "SGuycwR0MeQB"
      },
      "source": [
        "# **Deep Neural Network**\n",
        "\n",
        "`NeuralNet` is an `nn.Module` designed for regression.\n",
        "The DNN consists of 2 fully-connected layers with ReLU activation.\n",
        "This module also included a function `cal_loss` for calculating loss.\n"
      ]
    },
    {
      "cell_type": "code",
      "metadata": {
        "id": "49-uXYovOAI0"
      },
      "source": [
        "class NeuralNet(nn.Module):\n",
        "    ''' A simple fully-connected deep neural network '''\n",
        "    def __init__(self, input_dim):\n",
        "        super(NeuralNet, self).__init__()\n",
        "\n",
        "        # Define your neural network here\n",
        "        # TODO: How to modify this model to achieve better performance?\n",
        "        self.net = nn.Sequential(\n",
        "            nn.Linear(input_dim, 64),\n",
        "            nn.LeakyReLU(),\n",
        "            nn.Linear(64, 1)\n",
        "        )\n",
        "\n",
        "        # self.net = nn.Sequential(\n",
        "        #     nn.Linear(input_dim, 64),\n",
        "        #     nn.LeakyReLU(),\n",
        "        #     nn.Linear(64, 1)\n",
        "        # )\n",
        "\n",
        "        # Mean squared error loss\n",
        "        self.criterion = nn.MSELoss(reduction='mean')\n",
        "\n",
        "    def forward(self, x):\n",
        "        ''' Given input of size (batch_size x input_dim), compute output of the network '''\n",
        "        return self.net(x).squeeze(1)\n",
        "\n",
        "    def cal_loss(self, pred, target):\n",
        "        ''' Calculate loss '''\n",
        "        # TODO: you may implement L2 regularization here\n",
        "        return self.criterion(pred, target)"
      ],
      "execution_count": 376,
      "outputs": []
    },
    {
      "cell_type": "markdown",
      "metadata": {
        "id": "DvFWVjZ5Nvga"
      },
      "source": [
        "# **Train/Dev/Test**"
      ]
    },
    {
      "cell_type": "markdown",
      "metadata": {
        "id": "MAM8QecJOyqn"
      },
      "source": [
        "## **Training**"
      ]
    },
    {
      "cell_type": "code",
      "metadata": {
        "id": "lOqcmYzMO7jB"
      },
      "source": [
        "def train(tr_set, dv_set, model, config, device):\n",
        "    ''' DNN training '''\n",
        "\n",
        "    n_epochs = config['n_epochs']  # Maximum number of epochs\n",
        "\n",
        "    # Setup optimizer\n",
        "    optimizer = getattr(torch.optim, config['optimizer'])(\n",
        "    model.parameters(), **config['optim_hparas'])\n",
        "\n",
        "    min_mse = 1000.\n",
        "    loss_record = {'train': [], 'dev': []}      # for recording training loss\n",
        "    early_stop_cnt = 0\n",
        "    epoch = 0\n",
        "    while epoch < n_epochs:\n",
        "\n",
        "        model.train()                           # set model to training mode\n",
        "        for x, y in tr_set:                     # iterate through the dataloader\n",
        "            optimizer.zero_grad()               # set gradient to zero\n",
        "            x, y = x.to(device), y.to(device)   # move data to device (cpu/cuda)\n",
        "            pred = model(x)                     # forward pass (compute output)\n",
        "            mse_loss = model.cal_loss(pred, y)  # compute loss\n",
        "            mse_loss.backward()                 # compute gradient (backpropagation)\n",
        "            optimizer.step()                    # update model with optimizer\n",
        "            loss_record['train'].append(mse_loss.detach().cpu().item())\n",
        "\n",
        "        # After each epoch, test your model on the validation (development) set.\n",
        "        dev_mse = dev(dv_set, model, device)\n",
        "        if dev_mse < min_mse:\n",
        "            # Save model if your model improved\n",
        "            min_mse = dev_mse\n",
        "            print('Saving model (epoch = {:4d}, loss = {:.4f})'\n",
        "                .format(epoch + 1, min_mse))\n",
        "            torch.save(model.state_dict(), config['save_path'])  # Save model to specified path\n",
        "            early_stop_cnt = 0\n",
        "        else:\n",
        "            early_stop_cnt += 1\n",
        "\n",
        "        epoch += 1\n",
        "        loss_record['dev'].append(dev_mse)\n",
        "        if early_stop_cnt > config['early_stop']:\n",
        "            # Stop training if your model stops improving for \"config['early_stop']\" epochs.\n",
        "            break\n",
        "\n",
        "    print('Finished training after {} epochs'.format(epoch))\n",
        "    return min_mse, loss_record"
      ],
      "execution_count": 377,
      "outputs": []
    },
    {
      "cell_type": "markdown",
      "metadata": {
        "id": "0hSd4Bn3O2PL"
      },
      "source": [
        "## **Validation**"
      ]
    },
    {
      "cell_type": "code",
      "metadata": {
        "id": "yrxrD3YsN3U2"
      },
      "source": [
        "def dev(dv_set, model, device):\n",
        "    model.eval()                                # set model to evalutation mode\n",
        "    total_loss = 0\n",
        "    for x, y in dv_set:                         # iterate through the dataloader\n",
        "        x, y = x.to(device), y.to(device)       # move data to device (cpu/cuda)\n",
        "        with torch.no_grad():                   # disable gradient calculation\n",
        "            pred = model(x)                     # forward pass (compute output)\n",
        "            mse_loss = model.cal_loss(pred, y)  # compute loss\n",
        "        total_loss += mse_loss.detach().cpu().item() * len(x)  # accumulate loss\n",
        "    total_loss = total_loss / len(dv_set.dataset)              # compute averaged loss\n",
        "\n",
        "    return total_loss"
      ],
      "execution_count": 378,
      "outputs": []
    },
    {
      "cell_type": "markdown",
      "metadata": {
        "id": "g0pdrhQAO41L"
      },
      "source": [
        "## **Testing**"
      ]
    },
    {
      "cell_type": "code",
      "metadata": {
        "id": "aSBMRFlYN5tB"
      },
      "source": [
        "def test(tt_set, model, device):\n",
        "    model.eval()                                # set model to evalutation mode\n",
        "    preds = []\n",
        "    for x in tt_set:                            # iterate through the dataloader\n",
        "        x = x.to(device)                        # move data to device (cpu/cuda)\n",
        "        with torch.no_grad():                   # disable gradient calculation\n",
        "            pred = model(x)                     # forward pass (compute output)\n",
        "            preds.append(pred.detach().cpu())   # collect prediction\n",
        "    preds = torch.cat(preds, dim=0).numpy()     # concatenate all predictions and convert to a numpy array\n",
        "    return preds"
      ],
      "execution_count": 379,
      "outputs": []
    },
    {
      "cell_type": "markdown",
      "metadata": {
        "id": "SvckkF5dvf0j"
      },
      "source": [
        "# **Setup Hyper-parameters**\n",
        "\n",
        "`config` contains hyper-parameters for training and the path to save your model."
      ]
    },
    {
      "cell_type": "code",
      "metadata": {
        "id": "NPXpdumwPjE7"
      },
      "source": [
        "device = get_device()                 # get the current available device ('cpu' or 'cuda')\n",
        "os.makedirs('models', exist_ok=True)  # The trained model will be saved to ./models/\n",
        "target_only = True                   # TODO: Using 40 states & 2 tested_positive features\n",
        "\n",
        "# TODO: How to tune these hyper-parameters to improve your model's performance?\n",
        "config = {\n",
        "    'n_epochs': 3000,                # maximum number of epochs\n",
        "    'batch_size': 200,               # mini-batch size for dataloader\n",
        "    'optimizer': 'Adamax',              # optimization algorithm (optimizer in torch.optim)\n",
        "    'optim_hparas': {                # hyper-parameters for the optimizer (depends on which optimizer you are using)\n",
        "        'lr': 0.001,                 # learning rate of SGD\n",
        "        # 'momentum': 0.9,              # momentum for SGD\n",
        "        'weight_decay' : 0.002\n",
        "    },\n",
        "    'early_stop': 200,               # early stopping epochs (the number epochs since your model's last improvement)\n",
        "    'save_path': 'models/model.pth'  # your model will be saved here\n",
        "}"
      ],
      "execution_count": 380,
      "outputs": []
    },
    {
      "cell_type": "markdown",
      "metadata": {
        "id": "6j1eOV3TOH-j"
      },
      "source": [
        "# **Load data and model**"
      ]
    },
    {
      "cell_type": "code",
      "metadata": {
        "colab": {
          "base_uri": "https://localhost:8080/"
        },
        "id": "eNrYBMmePLKm",
        "outputId": "ff83a8ba-f370-4e81-c737-aa7ec27f97ce"
      },
      "source": [
        "tr_set = prep_dataloader(tr_path, 'train', config['batch_size'], target_only=target_only)\n",
        "dv_set = prep_dataloader(tr_path, 'dev', config['batch_size'], target_only=target_only)\n",
        "tt_set = prep_dataloader(tt_path, 'test', config['batch_size'], target_only=target_only)"
      ],
      "execution_count": 381,
      "outputs": [
        {
          "output_type": "stream",
          "text": [
            "Finished reading the train set of COVID19 Dataset (2430 samples found, each dim = 45)\n",
            "Finished reading the dev set of COVID19 Dataset (270 samples found, each dim = 45)\n",
            "Finished reading the test set of COVID19 Dataset (893 samples found, each dim = 45)\n"
          ],
          "name": "stdout"
        }
      ]
    },
    {
      "cell_type": "code",
      "metadata": {
        "id": "FHylSirLP9oh"
      },
      "source": [
        "model = NeuralNet(tr_set.dataset.dim).to(device)  # Construct model and move to device"
      ],
      "execution_count": 382,
      "outputs": []
    },
    {
      "cell_type": "markdown",
      "metadata": {
        "id": "sX2B_zgSOPTJ"
      },
      "source": [
        "# **Start Training!**"
      ]
    },
    {
      "cell_type": "code",
      "metadata": {
        "colab": {
          "base_uri": "https://localhost:8080/"
        },
        "id": "GrEbUxazQAAZ",
        "outputId": "3bfb175a-b48c-4eee-c2a8-850d2d0d54fe"
      },
      "source": [
        "model_loss, model_loss_record = train(tr_set, dv_set, model, config, device)"
      ],
      "execution_count": 383,
      "outputs": [
        {
          "output_type": "stream",
          "text": [
            "Saving model (epoch =    1, loss = 326.5651)\n",
            "Saving model (epoch =    2, loss = 321.5889)\n",
            "Saving model (epoch =    3, loss = 316.3572)\n",
            "Saving model (epoch =    4, loss = 310.5203)\n",
            "Saving model (epoch =    5, loss = 303.9672)\n",
            "Saving model (epoch =    6, loss = 296.8477)\n",
            "Saving model (epoch =    7, loss = 288.9540)\n",
            "Saving model (epoch =    8, loss = 280.2277)\n",
            "Saving model (epoch =    9, loss = 270.8786)\n",
            "Saving model (epoch =   10, loss = 260.8026)\n",
            "Saving model (epoch =   11, loss = 250.2359)\n",
            "Saving model (epoch =   12, loss = 238.9634)\n",
            "Saving model (epoch =   13, loss = 227.0361)\n",
            "Saving model (epoch =   14, loss = 215.6239)\n",
            "Saving model (epoch =   15, loss = 203.7009)\n",
            "Saving model (epoch =   16, loss = 191.0144)\n",
            "Saving model (epoch =   17, loss = 177.9754)\n",
            "Saving model (epoch =   18, loss = 165.3445)\n",
            "Saving model (epoch =   19, loss = 153.4363)\n",
            "Saving model (epoch =   20, loss = 141.8680)\n",
            "Saving model (epoch =   21, loss = 130.6798)\n",
            "Saving model (epoch =   22, loss = 119.8858)\n",
            "Saving model (epoch =   23, loss = 109.5724)\n",
            "Saving model (epoch =   24, loss = 99.6483)\n",
            "Saving model (epoch =   25, loss = 90.4926)\n",
            "Saving model (epoch =   26, loss = 82.0731)\n",
            "Saving model (epoch =   27, loss = 74.5865)\n",
            "Saving model (epoch =   28, loss = 67.8565)\n",
            "Saving model (epoch =   29, loss = 62.0155)\n",
            "Saving model (epoch =   30, loss = 57.1153)\n",
            "Saving model (epoch =   31, loss = 52.9164)\n",
            "Saving model (epoch =   32, loss = 49.3226)\n",
            "Saving model (epoch =   33, loss = 46.3412)\n",
            "Saving model (epoch =   34, loss = 43.7694)\n",
            "Saving model (epoch =   35, loss = 41.5571)\n",
            "Saving model (epoch =   36, loss = 39.6461)\n",
            "Saving model (epoch =   37, loss = 37.9432)\n",
            "Saving model (epoch =   38, loss = 36.4316)\n",
            "Saving model (epoch =   39, loss = 35.0553)\n",
            "Saving model (epoch =   40, loss = 33.7320)\n",
            "Saving model (epoch =   41, loss = 32.5225)\n",
            "Saving model (epoch =   42, loss = 31.3228)\n",
            "Saving model (epoch =   43, loss = 30.1608)\n",
            "Saving model (epoch =   44, loss = 28.9984)\n",
            "Saving model (epoch =   45, loss = 27.8492)\n",
            "Saving model (epoch =   46, loss = 26.6946)\n",
            "Saving model (epoch =   47, loss = 25.5366)\n",
            "Saving model (epoch =   48, loss = 24.3837)\n",
            "Saving model (epoch =   49, loss = 23.2331)\n",
            "Saving model (epoch =   50, loss = 22.0788)\n",
            "Saving model (epoch =   51, loss = 20.9304)\n",
            "Saving model (epoch =   52, loss = 19.7858)\n",
            "Saving model (epoch =   53, loss = 18.6638)\n",
            "Saving model (epoch =   54, loss = 17.5730)\n",
            "Saving model (epoch =   55, loss = 16.4934)\n",
            "Saving model (epoch =   56, loss = 15.4510)\n",
            "Saving model (epoch =   57, loss = 14.4466)\n",
            "Saving model (epoch =   58, loss = 13.4851)\n",
            "Saving model (epoch =   59, loss = 12.5974)\n",
            "Saving model (epoch =   60, loss = 11.7500)\n",
            "Saving model (epoch =   61, loss = 10.9457)\n",
            "Saving model (epoch =   62, loss = 10.1892)\n",
            "Saving model (epoch =   63, loss = 9.4563)\n",
            "Saving model (epoch =   64, loss = 8.7650)\n",
            "Saving model (epoch =   65, loss = 8.1134)\n",
            "Saving model (epoch =   66, loss = 7.5062)\n",
            "Saving model (epoch =   67, loss = 6.9384)\n",
            "Saving model (epoch =   68, loss = 6.4211)\n",
            "Saving model (epoch =   69, loss = 5.9558)\n",
            "Saving model (epoch =   70, loss = 5.5229)\n",
            "Saving model (epoch =   71, loss = 5.1270)\n",
            "Saving model (epoch =   72, loss = 4.7749)\n",
            "Saving model (epoch =   73, loss = 4.4641)\n",
            "Saving model (epoch =   74, loss = 4.1793)\n",
            "Saving model (epoch =   75, loss = 3.9236)\n",
            "Saving model (epoch =   76, loss = 3.6879)\n",
            "Saving model (epoch =   77, loss = 3.4800)\n",
            "Saving model (epoch =   78, loss = 3.3017)\n",
            "Saving model (epoch =   79, loss = 3.1386)\n",
            "Saving model (epoch =   80, loss = 2.9935)\n",
            "Saving model (epoch =   81, loss = 2.8648)\n",
            "Saving model (epoch =   82, loss = 2.7554)\n",
            "Saving model (epoch =   83, loss = 2.6636)\n",
            "Saving model (epoch =   84, loss = 2.5795)\n",
            "Saving model (epoch =   85, loss = 2.5072)\n",
            "Saving model (epoch =   86, loss = 2.4420)\n",
            "Saving model (epoch =   87, loss = 2.3815)\n",
            "Saving model (epoch =   88, loss = 2.3297)\n",
            "Saving model (epoch =   89, loss = 2.2825)\n",
            "Saving model (epoch =   90, loss = 2.2409)\n",
            "Saving model (epoch =   91, loss = 2.2018)\n",
            "Saving model (epoch =   92, loss = 2.1721)\n",
            "Saving model (epoch =   93, loss = 2.1380)\n",
            "Saving model (epoch =   94, loss = 2.1084)\n",
            "Saving model (epoch =   95, loss = 2.0795)\n",
            "Saving model (epoch =   96, loss = 2.0519)\n",
            "Saving model (epoch =   97, loss = 2.0340)\n",
            "Saving model (epoch =   98, loss = 2.0104)\n",
            "Saving model (epoch =   99, loss = 1.9923)\n",
            "Saving model (epoch =  100, loss = 1.9669)\n",
            "Saving model (epoch =  101, loss = 1.9455)\n",
            "Saving model (epoch =  102, loss = 1.9284)\n",
            "Saving model (epoch =  103, loss = 1.9090)\n",
            "Saving model (epoch =  104, loss = 1.8979)\n",
            "Saving model (epoch =  105, loss = 1.8796)\n",
            "Saving model (epoch =  106, loss = 1.8604)\n",
            "Saving model (epoch =  107, loss = 1.8444)\n",
            "Saving model (epoch =  108, loss = 1.8280)\n",
            "Saving model (epoch =  109, loss = 1.8140)\n",
            "Saving model (epoch =  110, loss = 1.7983)\n",
            "Saving model (epoch =  111, loss = 1.7860)\n",
            "Saving model (epoch =  112, loss = 1.7703)\n",
            "Saving model (epoch =  113, loss = 1.7574)\n",
            "Saving model (epoch =  114, loss = 1.7498)\n",
            "Saving model (epoch =  115, loss = 1.7375)\n",
            "Saving model (epoch =  116, loss = 1.7195)\n",
            "Saving model (epoch =  117, loss = 1.7056)\n",
            "Saving model (epoch =  118, loss = 1.6920)\n",
            "Saving model (epoch =  119, loss = 1.6833)\n",
            "Saving model (epoch =  120, loss = 1.6694)\n",
            "Saving model (epoch =  121, loss = 1.6555)\n",
            "Saving model (epoch =  122, loss = 1.6437)\n",
            "Saving model (epoch =  123, loss = 1.6329)\n",
            "Saving model (epoch =  124, loss = 1.6214)\n",
            "Saving model (epoch =  125, loss = 1.6090)\n",
            "Saving model (epoch =  126, loss = 1.6030)\n",
            "Saving model (epoch =  127, loss = 1.5871)\n",
            "Saving model (epoch =  128, loss = 1.5804)\n",
            "Saving model (epoch =  129, loss = 1.5717)\n",
            "Saving model (epoch =  130, loss = 1.5610)\n",
            "Saving model (epoch =  131, loss = 1.5557)\n",
            "Saving model (epoch =  132, loss = 1.5466)\n",
            "Saving model (epoch =  133, loss = 1.5370)\n",
            "Saving model (epoch =  134, loss = 1.5219)\n",
            "Saving model (epoch =  135, loss = 1.5133)\n",
            "Saving model (epoch =  136, loss = 1.5117)\n",
            "Saving model (epoch =  137, loss = 1.5027)\n",
            "Saving model (epoch =  138, loss = 1.4884)\n",
            "Saving model (epoch =  139, loss = 1.4785)\n",
            "Saving model (epoch =  140, loss = 1.4684)\n",
            "Saving model (epoch =  141, loss = 1.4637)\n",
            "Saving model (epoch =  143, loss = 1.4543)\n",
            "Saving model (epoch =  144, loss = 1.4455)\n",
            "Saving model (epoch =  145, loss = 1.4430)\n",
            "Saving model (epoch =  146, loss = 1.4354)\n",
            "Saving model (epoch =  147, loss = 1.4228)\n",
            "Saving model (epoch =  148, loss = 1.4180)\n",
            "Saving model (epoch =  149, loss = 1.4107)\n",
            "Saving model (epoch =  150, loss = 1.4086)\n",
            "Saving model (epoch =  151, loss = 1.4015)\n",
            "Saving model (epoch =  152, loss = 1.3911)\n",
            "Saving model (epoch =  153, loss = 1.3885)\n",
            "Saving model (epoch =  154, loss = 1.3820)\n",
            "Saving model (epoch =  155, loss = 1.3727)\n",
            "Saving model (epoch =  156, loss = 1.3719)\n",
            "Saving model (epoch =  157, loss = 1.3691)\n",
            "Saving model (epoch =  158, loss = 1.3590)\n",
            "Saving model (epoch =  159, loss = 1.3566)\n",
            "Saving model (epoch =  160, loss = 1.3550)\n",
            "Saving model (epoch =  161, loss = 1.3450)\n",
            "Saving model (epoch =  162, loss = 1.3368)\n",
            "Saving model (epoch =  164, loss = 1.3316)\n",
            "Saving model (epoch =  165, loss = 1.3231)\n",
            "Saving model (epoch =  166, loss = 1.3214)\n",
            "Saving model (epoch =  167, loss = 1.3165)\n",
            "Saving model (epoch =  168, loss = 1.3112)\n",
            "Saving model (epoch =  169, loss = 1.3059)\n",
            "Saving model (epoch =  170, loss = 1.3033)\n",
            "Saving model (epoch =  171, loss = 1.3010)\n",
            "Saving model (epoch =  172, loss = 1.2942)\n",
            "Saving model (epoch =  173, loss = 1.2881)\n",
            "Saving model (epoch =  175, loss = 1.2790)\n",
            "Saving model (epoch =  177, loss = 1.2724)\n",
            "Saving model (epoch =  179, loss = 1.2673)\n",
            "Saving model (epoch =  180, loss = 1.2598)\n",
            "Saving model (epoch =  181, loss = 1.2595)\n",
            "Saving model (epoch =  182, loss = 1.2573)\n",
            "Saving model (epoch =  183, loss = 1.2544)\n",
            "Saving model (epoch =  184, loss = 1.2469)\n",
            "Saving model (epoch =  186, loss = 1.2447)\n",
            "Saving model (epoch =  187, loss = 1.2374)\n",
            "Saving model (epoch =  188, loss = 1.2301)\n",
            "Saving model (epoch =  190, loss = 1.2289)\n",
            "Saving model (epoch =  191, loss = 1.2190)\n",
            "Saving model (epoch =  194, loss = 1.2139)\n",
            "Saving model (epoch =  196, loss = 1.2133)\n",
            "Saving model (epoch =  197, loss = 1.2044)\n",
            "Saving model (epoch =  199, loss = 1.1993)\n",
            "Saving model (epoch =  201, loss = 1.1985)\n",
            "Saving model (epoch =  202, loss = 1.1959)\n",
            "Saving model (epoch =  203, loss = 1.1952)\n",
            "Saving model (epoch =  204, loss = 1.1906)\n",
            "Saving model (epoch =  205, loss = 1.1852)\n",
            "Saving model (epoch =  206, loss = 1.1843)\n",
            "Saving model (epoch =  207, loss = 1.1780)\n",
            "Saving model (epoch =  208, loss = 1.1768)\n",
            "Saving model (epoch =  209, loss = 1.1751)\n",
            "Saving model (epoch =  210, loss = 1.1696)\n",
            "Saving model (epoch =  211, loss = 1.1672)\n",
            "Saving model (epoch =  213, loss = 1.1656)\n",
            "Saving model (epoch =  214, loss = 1.1616)\n",
            "Saving model (epoch =  215, loss = 1.1580)\n",
            "Saving model (epoch =  216, loss = 1.1553)\n",
            "Saving model (epoch =  217, loss = 1.1517)\n",
            "Saving model (epoch =  218, loss = 1.1468)\n",
            "Saving model (epoch =  220, loss = 1.1428)\n",
            "Saving model (epoch =  221, loss = 1.1383)\n",
            "Saving model (epoch =  222, loss = 1.1378)\n",
            "Saving model (epoch =  223, loss = 1.1355)\n",
            "Saving model (epoch =  224, loss = 1.1286)\n",
            "Saving model (epoch =  226, loss = 1.1242)\n",
            "Saving model (epoch =  231, loss = 1.1162)\n",
            "Saving model (epoch =  232, loss = 1.1150)\n",
            "Saving model (epoch =  233, loss = 1.1131)\n",
            "Saving model (epoch =  235, loss = 1.1077)\n",
            "Saving model (epoch =  236, loss = 1.1064)\n",
            "Saving model (epoch =  238, loss = 1.1003)\n",
            "Saving model (epoch =  241, loss = 1.0945)\n",
            "Saving model (epoch =  243, loss = 1.0906)\n",
            "Saving model (epoch =  246, loss = 1.0839)\n",
            "Saving model (epoch =  247, loss = 1.0826)\n",
            "Saving model (epoch =  249, loss = 1.0799)\n",
            "Saving model (epoch =  250, loss = 1.0782)\n",
            "Saving model (epoch =  251, loss = 1.0746)\n",
            "Saving model (epoch =  253, loss = 1.0736)\n",
            "Saving model (epoch =  256, loss = 1.0699)\n",
            "Saving model (epoch =  257, loss = 1.0666)\n",
            "Saving model (epoch =  258, loss = 1.0653)\n",
            "Saving model (epoch =  259, loss = 1.0631)\n",
            "Saving model (epoch =  261, loss = 1.0577)\n",
            "Saving model (epoch =  264, loss = 1.0543)\n",
            "Saving model (epoch =  265, loss = 1.0532)\n",
            "Saving model (epoch =  267, loss = 1.0516)\n",
            "Saving model (epoch =  268, loss = 1.0507)\n",
            "Saving model (epoch =  269, loss = 1.0465)\n",
            "Saving model (epoch =  270, loss = 1.0447)\n",
            "Saving model (epoch =  272, loss = 1.0421)\n",
            "Saving model (epoch =  273, loss = 1.0351)\n",
            "Saving model (epoch =  276, loss = 1.0351)\n",
            "Saving model (epoch =  278, loss = 1.0316)\n",
            "Saving model (epoch =  280, loss = 1.0309)\n",
            "Saving model (epoch =  281, loss = 1.0296)\n",
            "Saving model (epoch =  283, loss = 1.0247)\n",
            "Saving model (epoch =  285, loss = 1.0242)\n",
            "Saving model (epoch =  286, loss = 1.0232)\n",
            "Saving model (epoch =  287, loss = 1.0220)\n",
            "Saving model (epoch =  288, loss = 1.0214)\n",
            "Saving model (epoch =  289, loss = 1.0179)\n",
            "Saving model (epoch =  290, loss = 1.0163)\n",
            "Saving model (epoch =  292, loss = 1.0161)\n",
            "Saving model (epoch =  293, loss = 1.0152)\n",
            "Saving model (epoch =  294, loss = 1.0136)\n",
            "Saving model (epoch =  295, loss = 1.0109)\n",
            "Saving model (epoch =  296, loss = 1.0064)\n",
            "Saving model (epoch =  300, loss = 1.0063)\n",
            "Saving model (epoch =  302, loss = 0.9966)\n",
            "Saving model (epoch =  307, loss = 0.9939)\n",
            "Saving model (epoch =  311, loss = 0.9900)\n",
            "Saving model (epoch =  312, loss = 0.9899)\n",
            "Saving model (epoch =  313, loss = 0.9893)\n",
            "Saving model (epoch =  315, loss = 0.9884)\n",
            "Saving model (epoch =  317, loss = 0.9876)\n",
            "Saving model (epoch =  318, loss = 0.9846)\n",
            "Saving model (epoch =  320, loss = 0.9829)\n",
            "Saving model (epoch =  322, loss = 0.9827)\n",
            "Saving model (epoch =  323, loss = 0.9767)\n",
            "Saving model (epoch =  326, loss = 0.9751)\n",
            "Saving model (epoch =  329, loss = 0.9728)\n",
            "Saving model (epoch =  330, loss = 0.9715)\n",
            "Saving model (epoch =  334, loss = 0.9683)\n",
            "Saving model (epoch =  338, loss = 0.9674)\n",
            "Saving model (epoch =  340, loss = 0.9649)\n",
            "Saving model (epoch =  342, loss = 0.9617)\n",
            "Saving model (epoch =  343, loss = 0.9597)\n",
            "Saving model (epoch =  345, loss = 0.9588)\n",
            "Saving model (epoch =  349, loss = 0.9561)\n",
            "Saving model (epoch =  350, loss = 0.9555)\n",
            "Saving model (epoch =  351, loss = 0.9540)\n",
            "Saving model (epoch =  353, loss = 0.9536)\n",
            "Saving model (epoch =  354, loss = 0.9533)\n",
            "Saving model (epoch =  356, loss = 0.9524)\n",
            "Saving model (epoch =  357, loss = 0.9509)\n",
            "Saving model (epoch =  359, loss = 0.9468)\n",
            "Saving model (epoch =  362, loss = 0.9460)\n",
            "Saving model (epoch =  367, loss = 0.9453)\n",
            "Saving model (epoch =  368, loss = 0.9453)\n",
            "Saving model (epoch =  369, loss = 0.9442)\n",
            "Saving model (epoch =  372, loss = 0.9435)\n",
            "Saving model (epoch =  373, loss = 0.9432)\n",
            "Saving model (epoch =  374, loss = 0.9428)\n",
            "Saving model (epoch =  376, loss = 0.9421)\n",
            "Saving model (epoch =  378, loss = 0.9393)\n",
            "Saving model (epoch =  381, loss = 0.9380)\n",
            "Saving model (epoch =  385, loss = 0.9375)\n",
            "Saving model (epoch =  390, loss = 0.9356)\n",
            "Saving model (epoch =  396, loss = 0.9338)\n",
            "Saving model (epoch =  405, loss = 0.9327)\n",
            "Saving model (epoch =  406, loss = 0.9327)\n",
            "Saving model (epoch =  407, loss = 0.9308)\n",
            "Saving model (epoch =  409, loss = 0.9295)\n",
            "Saving model (epoch =  412, loss = 0.9289)\n",
            "Saving model (epoch =  414, loss = 0.9287)\n",
            "Saving model (epoch =  423, loss = 0.9274)\n",
            "Saving model (epoch =  425, loss = 0.9272)\n",
            "Saving model (epoch =  426, loss = 0.9239)\n",
            "Saving model (epoch =  434, loss = 0.9231)\n",
            "Saving model (epoch =  436, loss = 0.9221)\n",
            "Saving model (epoch =  438, loss = 0.9212)\n",
            "Saving model (epoch =  451, loss = 0.9199)\n",
            "Saving model (epoch =  453, loss = 0.9171)\n",
            "Saving model (epoch =  455, loss = 0.9167)\n",
            "Saving model (epoch =  462, loss = 0.9148)\n",
            "Saving model (epoch =  469, loss = 0.9125)\n",
            "Saving model (epoch =  481, loss = 0.9106)\n",
            "Saving model (epoch =  496, loss = 0.9106)\n",
            "Saving model (epoch =  499, loss = 0.9095)\n",
            "Saving model (epoch =  500, loss = 0.9081)\n",
            "Saving model (epoch =  502, loss = 0.9050)\n",
            "Saving model (epoch =  527, loss = 0.9045)\n",
            "Saving model (epoch =  536, loss = 0.9029)\n",
            "Saving model (epoch =  545, loss = 0.9028)\n",
            "Saving model (epoch =  550, loss = 0.9019)\n",
            "Saving model (epoch =  552, loss = 0.9012)\n",
            "Saving model (epoch =  581, loss = 0.9002)\n",
            "Saving model (epoch =  582, loss = 0.8993)\n",
            "Saving model (epoch =  597, loss = 0.8969)\n",
            "Saving model (epoch =  683, loss = 0.8967)\n",
            "Saving model (epoch =  688, loss = 0.8964)\n",
            "Saving model (epoch =  690, loss = 0.8963)\n",
            "Saving model (epoch =  691, loss = 0.8945)\n",
            "Saving model (epoch =  692, loss = 0.8931)\n",
            "Saving model (epoch =  693, loss = 0.8927)\n",
            "Saving model (epoch =  700, loss = 0.8915)\n",
            "Saving model (epoch =  702, loss = 0.8889)\n",
            "Saving model (epoch =  793, loss = 0.8884)\n",
            "Saving model (epoch =  795, loss = 0.8882)\n",
            "Saving model (epoch =  822, loss = 0.8879)\n",
            "Saving model (epoch =  833, loss = 0.8871)\n",
            "Saving model (epoch =  838, loss = 0.8859)\n",
            "Saving model (epoch =  849, loss = 0.8853)\n",
            "Saving model (epoch =  892, loss = 0.8851)\n",
            "Saving model (epoch =  897, loss = 0.8847)\n",
            "Saving model (epoch =  912, loss = 0.8846)\n",
            "Saving model (epoch =  917, loss = 0.8843)\n",
            "Saving model (epoch =  927, loss = 0.8833)\n",
            "Saving model (epoch =  936, loss = 0.8827)\n",
            "Saving model (epoch =  948, loss = 0.8811)\n",
            "Saving model (epoch =  951, loss = 0.8803)\n",
            "Saving model (epoch =  997, loss = 0.8803)\n",
            "Saving model (epoch = 1051, loss = 0.8800)\n",
            "Saving model (epoch = 1069, loss = 0.8784)\n",
            "Saving model (epoch = 1080, loss = 0.8777)\n",
            "Saving model (epoch = 1106, loss = 0.8772)\n",
            "Saving model (epoch = 1107, loss = 0.8754)\n",
            "Saving model (epoch = 1169, loss = 0.8719)\n",
            "Saving model (epoch = 1252, loss = 0.8718)\n",
            "Saving model (epoch = 1332, loss = 0.8706)\n",
            "Saving model (epoch = 1334, loss = 0.8698)\n",
            "Saving model (epoch = 1375, loss = 0.8672)\n",
            "Finished training after 1576 epochs\n"
          ],
          "name": "stdout"
        }
      ]
    },
    {
      "cell_type": "code",
      "metadata": {
        "id": "r-BN9vEujojX"
      },
      "source": [
        ""
      ],
      "execution_count": 383,
      "outputs": []
    },
    {
      "cell_type": "code",
      "metadata": {
        "id": "hsNO9nnXQBvP",
        "colab": {
          "base_uri": "https://localhost:8080/",
          "height": 295
        },
        "outputId": "816d8f86-c7e1-4e77-a3aa-38d8267ffd73"
      },
      "source": [
        "plot_learning_curve(model_loss_record, title='deep model')"
      ],
      "execution_count": 384,
      "outputs": [
        {
          "output_type": "display_data",
          "data": {
            "image/png": "[encoded data removed]",
            "text/plain": [
              "<Figure size 432x288 with 1 Axes>"
            ]
          },
          "metadata": {
            "tags": [],
            "needs_background": "light"
          }
        }
      ]
    },
    {
      "cell_type": "code",
      "metadata": {
        "id": "3iZTVn5WQFpX",
        "colab": {
          "base_uri": "https://localhost:8080/",
          "height": 350
        },
        "outputId": "c3bbd7df-e36e-4a41-c1de-1c3347c7b4d2"
      },
      "source": [
        "del model\n",
        "model = NeuralNet(tr_set.dataset.dim).to(device)\n",
        "ckpt = torch.load(config['save_path'], map_location='cpu')  # Load your best model\n",
        "model.load_state_dict(ckpt)\n",
        "plot_pred(dv_set, model, device)  # Show prediction on the validation set"
      ],
      "execution_count": 385,
      "outputs": [
        {
          "output_type": "display_data",
          "data": {
            "image/png": "[encoded data removed]",
            "text/plain": [
              "<Figure size 360x360 with 1 Axes>"
            ]
          },
          "metadata": {
            "tags": [],
            "needs_background": "light"
          }
        }
      ]
    },
    {
      "cell_type": "markdown",
      "metadata": {
        "id": "aQikz3IPiyPf"
      },
      "source": [
        "# **Testing**\n",
        "The predictions of your model on testing set will be stored at `pred.csv`."
      ]
    },
    {
      "cell_type": "code",
      "metadata": {
        "id": "O8cTuQjQQOon",
        "colab": {
          "base_uri": "https://localhost:8080/"
        },
        "outputId": "b6960d3b-3abe-4b0c-a891-0c338081215c"
      },
      "source": [
        "def save_pred(preds, file):\n",
        "    ''' Save predictions to specified file '''\n",
        "    print('Saving results to {}'.format(file))\n",
        "    with open(file, 'w') as fp:\n",
        "        writer = csv.writer(fp)\n",
        "        writer.writerow(['id', 'tested_positive'])\n",
        "        for i, p in enumerate(preds):\n",
        "            writer.writerow([i, p])\n",
        "\n",
        "preds = test(tt_set, model, device)  # predict COVID-19 cases with your model\n",
        "save_pred(preds, 'pred.csv')         # save prediction file to pred.csv"
      ],
      "execution_count": 386,
      "outputs": [
        {
          "output_type": "stream",
          "text": [
            "Saving results to pred.csv\n"
          ],
          "name": "stdout"
        }
      ]
    },
    {
      "cell_type": "code",
      "metadata": {
        "id": "A1NmNvH62qbN"
      },
      "source": [
        "# 1234 -> 0.8703 -> 0.98307\r\n",
        "# 123456 -> 0.8656 -> 0.97525\r\n",
        "# 12345678 -> 0.8622 -> 0.98214"
      ],
      "execution_count": 387,
      "outputs": []
    },
    {
      "cell_type": "markdown",
      "metadata": {
        "id": "nfrVxqJanGpE"
      },
      "source": [
        "# **Hints**\n",
        "\n",
        "## **Simple Baseline**\n",
        "* Run sample code\n",
        "\n",
        "## **Medium Baseline**\n",
        "* Feature selection: 40 states + 2 `tested_positive` (`TODO` in dataset)\n",
        "\n",
        "## **Strong Baseline**\n",
        "* Feature selection (what other features are useful?)\n",
        "* DNN architecture (layers? dimension? activation function?)\n",
        "* Training (mini-batch? optimizer? learning rate?)\n",
        "* L2 regularization\n",
        "* There are some mistakes in the sample code, can you find them?"
      ]
    },
    {
      "cell_type": "markdown",
      "metadata": {
        "id": "9tmCwXgpot3t"
      },
      "source": [
        "# **Reference**\n",
        "This code is completely written by Heng-Jui Chang @ NTUEE.  \n",
        "Copying or reusing this code is required to specify the original author. \n",
        "\n",
        "E.g.  \n",
        "Source: Heng-Jui Chang @ NTUEE (https://github.com/ga642381/ML2021-Spring/blob/main/HW01/HW01.ipynb)\n"
      ]
    }
  ]
}